{
 "cells": [
  {
   "cell_type": "code",
   "execution_count": null,
   "id": "7fe2481a-a5e8-4302-9f95-4f58a00bb0d4",
   "metadata": {},
   "outputs": [],
   "source": [
    "import tensorflow as tf\n",
    "from tensorflow.keras import models,layers\n",
    "import matplotlib.pyplot as plt\n",
    "import warnings\n",
    "warnings.filterwarnings('ignore')"
   ]
  },
  {
   "cell_type": "code",
   "execution_count": null,
   "id": "9d287058-4ffc-4309-8f2d-de1424bf0917",
   "metadata": {},
   "outputs": [],
   "source": [
    "IMAGE_SIZE=256\n",
    "BATCH_SIZE=32\n",
    "CHANNELS=3"
   ]
  },
  {
   "cell_type": "code",
   "execution_count": null,
   "id": "ebd43d7b-73d7-4408-adea-bb73c49686ec",
   "metadata": {},
   "outputs": [],
   "source": [
    "dataset=tf.keras.preprocessing.image_dataset_from_directory(\n",
    "    \"plantvillage\",\n",
    "    shuffle=True,\n",
    "    image_size= (IMAGE_SIZE,IMAGE_SIZE),\n",
    "    batch_size= BATCH_SIZE\n",
    ")"
   ]
  },
  {
   "cell_type": "code",
   "execution_count": null,
   "id": "e6dfa5a3-7ba5-43ab-804d-77b5412c8d08",
   "metadata": {},
   "outputs": [],
   "source": [
    "class_names=dataset.class_names \n",
    "class_names\n"
   ]
  },
  {
   "cell_type": "code",
   "execution_count": null,
   "id": "035a2292-1bfe-490d-9286-aa1fb31750e2",
   "metadata": {},
   "outputs": [],
   "source": [
    "len(dataset)"
   ]
  },
  {
   "cell_type": "code",
   "execution_count": null,
   "id": "730ebb67-ae8b-4607-8bc8-b6ac59609780",
   "metadata": {},
   "outputs": [],
   "source": [
    "for image_batch,label_batch in dataset.take(1):\n",
    "    print(image_batch.shape)\n",
    "    print(label_batch.numpy())"
   ]
  },
  {
   "cell_type": "code",
   "execution_count": null,
   "id": "2fd0273e-25b5-453e-aeb6-58e5c9e49c05",
   "metadata": {},
   "outputs": [],
   "source": [
    "classname = dataset.class_names"
   ]
  },
  {
   "cell_type": "code",
   "execution_count": null,
   "id": "8c172a70-f9fd-4d9b-90d7-6fee91745994",
   "metadata": {
    "scrolled": true
   },
   "outputs": [],
   "source": [
    "plt.figure(figsize=(10,10))\n",
    "for image_batch, label_batch in dataset.take(1):\n",
    "    for i in range(12):\n",
    "        ax = plt.subplot(3,4, i+1)\n",
    "        plt.imshow(image_batch[i].numpy().astype(\"uint8\"))\n",
    "        plt.title(classname[label_batch[i]])\n",
    "        plt.axis(\"off\")\n",
    "        "
   ]
  },
  {
   "cell_type": "code",
   "execution_count": null,
   "id": "d69e4188-218a-416c-ad4f-6e9ccf9a58ff",
   "metadata": {},
   "outputs": [],
   "source": [
    "train_size = 0.8\n",
    "len(dataset)*train_size\n"
   ]
  },
  {
   "cell_type": "code",
   "execution_count": null,
   "id": "7c6bb834-e2d1-4e0b-bfc1-ae430369225d",
   "metadata": {},
   "outputs": [],
   "source": [
    "train_ds = dataset.take(54)\n",
    "len(train_ds)"
   ]
  },
  {
   "cell_type": "code",
   "execution_count": null,
   "id": "735cc57c-440b-4a88-a7a3-7393d11ba76c",
   "metadata": {},
   "outputs": [],
   "source": [
    "test_ds = dataset.skip(54)\n",
    "len(test_ds)\n"
   ]
  },
  {
   "cell_type": "code",
   "execution_count": null,
   "id": "0791503c-fbc4-475f-bfef-a963fc19e397",
   "metadata": {},
   "outputs": [],
   "source": [
    "val_size = 0.1\n",
    "len(dataset) * val_size"
   ]
  },
  {
   "cell_type": "code",
   "execution_count": null,
   "id": "0071ce3f-8f0f-4e4c-bdb7-84ca6c69be66",
   "metadata": {},
   "outputs": [],
   "source": [
    "\n",
    "val_ds = test_ds.take(6)\n",
    "len(val_ds)"
   ]
  },
  {
   "cell_type": "code",
   "execution_count": null,
   "id": "0321ffbb-e68a-4ef7-9595-7d9605b59468",
   "metadata": {},
   "outputs": [],
   "source": [
    "test_ds = test_ds.skip(6)\n",
    "len(test_ds)\n"
   ]
  },
  {
   "cell_type": "code",
   "execution_count": null,
   "id": "e589cfd2-f7e4-40f8-bc68-321bb64cf7d3",
   "metadata": {},
   "outputs": [],
   "source": [
    "train_split=0.8\n",
    "val_split=0.1\n",
    "test_split=0.1\n",
    "\n",
    "assert train_split + val_split + test_split == 1"
   ]
  },
  {
   "cell_type": "code",
   "execution_count": null,
   "id": "94dfb13b-4c8f-44ac-9ca7-62bd35bf6886",
   "metadata": {},
   "outputs": [],
   "source": [
    "def get_dataset_paratitions_tf(ds, train_split=0.8, val_split=0.1, test_split=0.1, shuffle=True, shuffle_size=10000):\n",
    "    assert train_split + val_split + test_split == 1\n",
    "    \n",
    "    ds_size = len(ds)\n",
    "    if shuffle:\n",
    "        ds = ds.shuffle(shuffle_size, seed=12)\n",
    "    train_size = int(train_split*ds_size)\n",
    "    val_size = int(val_split*ds_size)\n",
    "    \n",
    "    train_ds = ds.take(train_size)\n",
    "    val_ds = ds.skip(train_size).take(val_size)\n",
    "    test_ds = ds.skip(train_size).skip(val_size)\n",
    "    \n",
    "    return train_ds, val_ds, test_ds\n"
   ]
  },
  {
   "cell_type": "code",
   "execution_count": null,
   "id": "7e1c1a07-0d90-4ecb-8d5c-ea96cbe1cde9",
   "metadata": {},
   "outputs": [],
   "source": [
    "train_ds, val_ds, test_ds = get_dataset_paratitions_tf(dataset)\n"
   ]
  },
  {
   "cell_type": "code",
   "execution_count": null,
   "id": "ec4a148d-8a1e-465d-9ef7-f5e31ad21c2d",
   "metadata": {},
   "outputs": [],
   "source": [
    "len(train_ds)"
   ]
  },
  {
   "cell_type": "code",
   "execution_count": null,
   "id": "b74e2ab5-6fe4-4c1b-9774-6fd73e5c3480",
   "metadata": {},
   "outputs": [],
   "source": [
    "len(val_ds)"
   ]
  },
  {
   "cell_type": "code",
   "execution_count": null,
   "id": "c39f0906-0692-48c5-ba31-9c4b6f7a01f3",
   "metadata": {},
   "outputs": [],
   "source": [
    "len(test_ds)\n"
   ]
  },
  {
   "cell_type": "code",
   "execution_count": null,
   "id": "241287f0-12be-4704-9666-807132b76167",
   "metadata": {},
   "outputs": [],
   "source": [
    "train_ds = train_ds.cache().shuffle(1000).prefetch(buffer_size = tf.data.AUTOTUNE)\n",
    "val_ds = val_ds.cache().shuffle(1000).prefetch(buffer_size = tf.data.AUTOTUNE)\n",
    "test_ds = test_ds.cache().shuffle(1000).prefetch(buffer_size = tf.data.AUTOTUNE)"
   ]
  },
  {
   "cell_type": "code",
   "execution_count": null,
   "id": "06a582bd-0ca4-4c53-9a84-039af33a17fc",
   "metadata": {},
   "outputs": [],
   "source": [
    "resize_and_rescale = tf.keras.Sequential([\n",
    "    tf.keras.layers.Resizing(IMAGE_SIZE, IMAGE_SIZE),\n",
    "    tf.keras.layers.Rescaling(1.0 / 255)\n",
    "])\n",
    "\n"
   ]
  },
  {
   "cell_type": "code",
   "execution_count": null,
   "id": "ec1c9ba3-4e1d-4eae-af12-9148fc94cac5",
   "metadata": {},
   "outputs": [],
   "source": [
    "data_augmentation = tf.keras.Sequential([\n",
    "    tf.keras.layers.RandomFlip(\"horizontal_and_vertical\"),\n",
    "    tf.keras.layers.RandomRotation(0.2)\n",
    "])\n"
   ]
  },
  {
   "cell_type": "code",
   "execution_count": null,
   "id": "3a058595-8551-48b1-a121-d2e180d628e6",
   "metadata": {},
   "outputs": [],
   "source": [
    "train_ds = train_ds.map(\n",
    "    lambda x, y: (data_augmentation(x, training=True), y)\n",
    ").prefetch(buffer_size=tf.data.AUTOTUNE)\n"
   ]
  },
  {
   "cell_type": "code",
   "execution_count": null,
   "id": "3520f62a-2d52-4e4c-a4cb-c1cbe21d9aa4",
   "metadata": {},
   "outputs": [],
   "source": [
    "input_shape = (BATCH_SIZE, IMAGE_SIZE, IMAGE_SIZE, CHANNELS)\n",
    "n_classes = 3\n",
    "\n",
    "model = models.Sequential([\n",
    "    resize_and_rescale,\n",
    "    layers.Conv2D(32, kernel_size = (3,3), activation = 'relu', input_shape = input_shape),\n",
    "    layers.MaxPooling2D(2,2),\n",
    "    \n",
    "    layers.Conv2D(64, kernel_size = (3,3), activation = 'relu'),\n",
    "    layers.MaxPooling2D(2,2),\n",
    "    \n",
    "    layers.Conv2D(64, kernel_size = (3,3), activation = 'relu'),\n",
    "    layers.MaxPooling2D(2,2),\n",
    "    \n",
    "    layers.Conv2D(64, kernel_size = (3,3), activation = 'relu'),\n",
    "    layers.MaxPooling2D(2,2),\n",
    "    \n",
    "    layers.Conv2D(64, kernel_size = (3,3), activation = 'relu'),\n",
    "    layers.MaxPooling2D(2,2),\n",
    "        layers.Conv2D(64, kernel_size = (3,3), activation = 'relu'),\n",
    "    layers.MaxPooling2D(2,2),\n",
    "    \n",
    "    layers.Flatten(), \n",
    "    \n",
    "    layers.Dense(64, activation='relu'),\n",
    "    \n",
    "    layers.Dense(n_classes, activation='softmax'),\n",
    "    \n",
    "])\n",
    "\n",
    "model.build(input_shape=input_shape)\n"
   ]
  },
  {
   "cell_type": "code",
   "execution_count": null,
   "id": "06b636f5-db36-4fea-b018-6df4023160d6",
   "metadata": {},
   "outputs": [],
   "source": [
    "model.summary()"
   ]
  },
  {
   "cell_type": "code",
   "execution_count": null,
   "id": "c0171dbf-36c0-4dde-a91a-335a869717a3",
   "metadata": {},
   "outputs": [],
   "source": [
    "model.compile(\n",
    "    optimizer = 'adam', \n",
    "    loss = tf.keras.losses.SparseCategoricalCrossentropy(from_logits=False), \n",
    "    metrics = ['accuracy'])"
   ]
  },
  {
   "cell_type": "code",
   "execution_count": null,
   "id": "81dd1dd7-0f13-4614-aa66-a345ad5a33c3",
   "metadata": {},
   "outputs": [],
   "source": [
    "history = model.fit(\n",
    "    train_ds,\n",
    "    epochs = 10, \n",
    "    batch_size = BATCH_SIZE, \n",
    "    verbose = 1,\n",
    "    validation_data = val_ds\n",
    ")\n"
   ]
  },
  {
   "cell_type": "code",
   "execution_count": null,
   "id": "ca330bfc-e42b-4dd0-8923-7896e1c7e320",
   "metadata": {},
   "outputs": [],
   "source": [
    "scores = model.evaluate(test_ds)"
   ]
  },
  {
   "cell_type": "code",
   "execution_count": null,
   "id": "bd678c51-3e59-4d94-bc3d-d28ea706a665",
   "metadata": {},
   "outputs": [],
   "source": [
    "scores"
   ]
  },
  {
   "cell_type": "code",
   "execution_count": null,
   "id": "6fe3940e-173f-4c47-9309-df0cd186a00d",
   "metadata": {},
   "outputs": [],
   "source": [
    "history.params"
   ]
  },
  {
   "cell_type": "code",
   "execution_count": null,
   "id": "622a9c26-76b9-4eb5-853b-1023d960e6e8",
   "metadata": {},
   "outputs": [],
   "source": [
    "\n",
    "history.history.keys()\n"
   ]
  },
  {
   "cell_type": "code",
   "execution_count": null,
   "id": "dfb51004-40d7-4549-b724-9ad3c6f65d09",
   "metadata": {},
   "outputs": [],
   "source": [
    "dict_keys(['loss', 'accuracy', 'val_loss', 'val_accuracy'])\n",
    "type(history.history['loss'])\n",
    "list\n",
    "len(history.history['loss'])"
   ]
  },
  {
   "cell_type": "code",
   "execution_count": null,
   "id": "8205cc43-499f-4458-89b5-2e3568ae992c",
   "metadata": {},
   "outputs": [],
   "source": [
    "acc = history.history['accuracy']\n",
    "val_acc  = history.history['val_accuracy']\n",
    "loss = history.history['loss']\n",
    "val_loss = history.history['val_loss']"
   ]
  },
  {
   "cell_type": "code",
   "execution_count": null,
   "id": "8a0c1e12-416a-4e00-8a6e-c620162b9a06",
   "metadata": {},
   "outputs": [],
   "source": [
    "val_acc"
   ]
  },
  {
   "cell_type": "code",
   "execution_count": null,
   "id": "08b3cb04-7774-401e-9167-3d4ede17c69c",
   "metadata": {},
   "outputs": [],
   "source": [
    "plt.figure(figsize=(15,5))\n",
    "plt.subplot(1, 2, 1)\n",
    "plt.plot(range(10), acc, label = \"Training Accuracy\")\n",
    "plt.plot(range(10), val_acc, label = \"Validation Accuracy\")\n",
    "plt.legend(loc = 'lower right')\n",
    "plt.title('Training & Validation Accuarcy')\n",
    "\n",
    "plt.subplot(1, 2, 2)\n",
    "plt.plot(range(10), loss, label = \"Training Loss\")\n",
    "plt.plot(range(10), val_loss, label = \"Validation Loss\")\n",
    "plt.legend(loc = 'upper right')\n",
    "plt.title('Training & Validation Loss')"
   ]
  },
  {
   "cell_type": "code",
   "execution_count": null,
   "id": "3d4cc62d-04b2-429d-bc56-c53e1db9fe63",
   "metadata": {},
   "outputs": [],
   "source": [
    "import numpy as np\n",
    "for image_batch , labels_batch in test_ds.take(1):\n",
    "    first_img = image_batch[0].numpy().astype('uint8')\n",
    "    first_label = labels_batch[0].numpy()\n",
    "    \n",
    "    print(\"first image to predict\")\n",
    "    plt.imshow(first_img)\n",
    "    print('actual label:', classname[first_label])\n",
    "    \n",
    "    batch_prediction = model.predict(image_batch)\n",
    "    print('predicted label:', classname[np.argmax(batch_prediction[0])])"
   ]
  },
  {
   "cell_type": "code",
   "execution_count": null,
   "id": "124d33ce-26b6-4ffe-9af7-3d7dbc3570f6",
   "metadata": {},
   "outputs": [],
   "source": [
    "def predict(model, img):\n",
    "    img_array = tf.keras.preprocessing.image.img_to_array(img.numpy())\n",
    "    img_array = tf.expand_dims(img_array, 0)\n",
    "    \n",
    "    prediction = model.predict(img_array)\n",
    "    \n",
    "    predicted_class = classname[np.argmax(prediction[0])]\n",
    "    confidence = round(100 * (np.argmax(prediction[0])), 2)\n",
    "    return predicted_class, confidence"
   ]
  },
  {
   "cell_type": "code",
   "execution_count": null,
   "id": "eac0909a-9499-4f7d-a17b-91d8cc29a113",
   "metadata": {},
   "outputs": [],
   "source": [
    "plt.figure(figsize = (15,15))\n",
    "\n",
    "for images,labels in test_ds.take(1):\n",
    "    for i in range(9):\n",
    "        ax = plt.subplot(3,3 ,i+1)\n",
    "        plt.imshow(images[i].numpy().astype(\"uint8\"))\n",
    "        predicted_class, confidence = predict(model, images[i])\n",
    "        actual_class = classname[labels[i]]\n",
    "        \n",
    "        plt.title(f\"Actual :{actual_class}, \\n Predicted: {predicted_class}. \\n Confidence: {confidence}%\")\n",
    "        \n",
    "        plt.axis(\"off\")\n"
   ]
  },
  {
   "cell_type": "code",
   "execution_count": null,
   "id": "26c2e091-d5c5-46f0-9d62-94d45b6b3c6e",
   "metadata": {},
   "outputs": [],
   "source": []
  },
  {
   "cell_type": "code",
   "execution_count": null,
   "id": "c90f132c-350e-4272-a7bb-7b2ba8a5489a",
   "metadata": {},
   "outputs": [],
   "source": []
  }
 ],
 "metadata": {
  "kernelspec": {
   "display_name": "Python 3 (ipykernel)",
   "language": "python",
   "name": "python3"
  },
  "language_info": {
   "codemirror_mode": {
    "name": "ipython",
    "version": 3
   },
   "file_extension": ".py",
   "mimetype": "text/x-python",
   "name": "python",
   "nbconvert_exporter": "python",
   "pygments_lexer": "ipython3",
   "version": "3.12.6"
  }
 },
 "nbformat": 4,
 "nbformat_minor": 5
}
